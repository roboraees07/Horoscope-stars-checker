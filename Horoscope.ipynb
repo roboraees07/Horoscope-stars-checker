{
  "nbformat": 4,
  "nbformat_minor": 0,
  "metadata": {
    "colab": {
      "name": "Horoscope.ipynb",
      "private_outputs": true,
      "provenance": [],
      "collapsed_sections": [],
      "authorship_tag": "ABX9TyNx8SJhLmXzJy4kNPy4Elss",
      "include_colab_link": true
    },
    "kernelspec": {
      "name": "python3",
      "display_name": "Python 3"
    },
    "language_info": {
      "name": "python"
    }
  },
  "cells": [
    {
      "cell_type": "markdown",
      "metadata": {
        "id": "view-in-github",
        "colab_type": "text"
      },
      "source": [
        "<a href=\"https://colab.research.google.com/github/roboraees07/Horoscope-stars-checker/blob/main/Horoscope.ipynb\" target=\"_parent\"><img src=\"https://colab.research.google.com/assets/colab-badge.svg\" alt=\"Open In Colab\"/></a>"
      ]
    },
    {
      "cell_type": "code",
      "metadata": {
        "id": "f1Fj0ZM940NG"
      },
      "source": [
        "!pip install pyaztro"
      ],
      "execution_count": null,
      "outputs": []
    },
    {
      "cell_type": "code",
      "metadata": {
        "id": "S51i_rpf5TPV"
      },
      "source": [
        "from PIL import Image\n",
        "import requests\n",
        "\n",
        "url = \"https://www.horoscope.com/images-US/signs/profile-aries.png\"\n",
        "im_aries = Image.open(requests.get(url, stream=True).raw)\n",
        "url = \"https://www.horoscope.com/images-US/signs/profile-taurus.png\"\n",
        "im_taurus = Image.open(requests.get(url, stream=True).raw)\n",
        "url = \"https://www.horoscope.com/images-US/signs/profile-gemini.png\"\n",
        "im_gemini = Image.open(requests.get(url, stream=True).raw)\n",
        "url = \"https://www.horoscope.com/images-US/signs/profile-cancer.png\"\n",
        "im_cancer = Image.open(requests.get(url, stream=True).raw)\n",
        "url = \"https://www.horoscope.com/images-US/signs/profile-leo.png\"\n",
        "im_leo = Image.open(requests.get(url, stream=True).raw)\n",
        "url = \"https://www.horoscope.com/images-US/signs/profile-virgo.png\"\n",
        "im_virgo = Image.open(requests.get(url, stream=True).raw)\n",
        "url = \"https://www.horoscope.com/images-US/signs/profile-libra.png\"\n",
        "im_libra = Image.open(requests.get(url, stream=True).raw)\n",
        "url = \"https://www.horoscope.com/images-US/signs/profile-scorpio.png\"\n",
        "im_scorpio = Image.open(requests.get(url, stream=True).raw)\n",
        "url = \"https://www.horoscope.com/images-US/signs/profile-sagittarius.png\"\n",
        "im_sagittarius = Image.open(requests.get(url, stream=True).raw)\n",
        "url = \"https://www.horoscope.com/images-US/signs/profile-capricorn.png\"\n",
        "im_capricorn = Image.open(requests.get(url, stream=True).raw)\n",
        "url = \"https://www.horoscope.com/images-US/signs/profile-aquarius.png\"\n",
        "im_aquarius = Image.open(requests.get(url, stream=True).raw)\n",
        "url = \"https://www.horoscope.com/images-US/signs/profile-pisces.png\"\n",
        "im_pisces = Image.open(requests.get(url, stream=True).raw)"
      ],
      "execution_count": null,
      "outputs": []
    },
    {
      "cell_type": "code",
      "metadata": {
        "id": "KptSV0Qs5qKu"
      },
      "source": [
        "image_name = []\n",
        "image_name.append({'name':'Aries', 'image':im_aries, 'date': 'Mar 21-Apr 20'})\n",
        "image_name.append({'name':'Taurus', 'image':im_taurus, 'date': 'Apr 21-May 20'})\n",
        "image_name.append({'name':'Gemini', 'image':im_gemini, 'date': 'May 21-Jun 21'})\n",
        "image_name.append({'name':'Cancer', 'image':im_cancer, 'date': 'Jun 22-Jul 22'})\n",
        "image_name.append({'name':'Leo', 'image':im_leo, 'date': 'Jul 23-Aug 22'})\n",
        "image_name.append({'name':'Virgo', 'image':im_virgo, 'date': 'Aug 23-Sep 22'})\n",
        "image_name.append({'name':'Libra', 'image':im_libra, 'date': 'Sep 23-Oct 22'})\n",
        "image_name.append({'name':'Scorpio', 'image':im_scorpio, 'date': 'Oct 23-Nov 22'})\n",
        "image_name.append({'name':'Sagittarius', 'image':im_sagittarius, 'date': 'Nov 23-Dec 21'})\n",
        "image_name.append({'name':'Capricorn', 'image':im_capricorn, 'date': 'Dec 22-Jan 19'})\n",
        "image_name.append({'name':'Aquarius', 'image':im_aquarius, 'date': 'Jan 20-Feb 18'})\n",
        "image_name.append({'name':'Pisces', 'image':im_pisces, 'date': 'Feb 19-Mar 20'})"
      ],
      "execution_count": null,
      "outputs": []
    },
    {
      "cell_type": "code",
      "metadata": {
        "id": "ceKco1Gi538G"
      },
      "source": [
        "import pyaztro\n",
        "from google.colab import widgets\n",
        "import ipywidgets\n",
        "from IPython.display import display, clear_output\n",
        "import pandas as pd\n",
        "\n",
        "pd.set_option(\"max_colwidth\", None)\n",
        "\n",
        "# create output widget\n",
        "output = ipywidgets.widgets.Output()\n",
        "\n",
        "days = ['yesterday', 'today', 'tomorrow']\n",
        "data_type = ['Date', 'Mood', 'Compatibility', 'Lucky number', 'Lucky time', 'Lucky color', 'Description']\n",
        "df = pd.DataFrame(data_type,columns=[''])\n",
        "\n",
        "# register function to be called when the button is clicked\n",
        "\n",
        "def on_button_clicked(b):\n",
        "  # Display the message within the output widget.\n",
        "  with output:\n",
        "    clear_output()\n",
        "    sign_name = str(b.description)\n",
        "    for i in range(0,3):\n",
        "      # read sign information for each day\n",
        "      sign_info = pyaztro.Aztro(sign=sign_name, day=days[i])\n",
        "      df[days[i]] =[sign_info.current_date, sign_info.mood, sign_info.compatibility, sign_info.lucky_number, sign_info.lucky_time, sign_info.color, sign_info.description]\n",
        "    print('\\n', 'Sign: ', str(b.description), '\\n')\n",
        "    display(df)\n",
        "\n",
        "# create a list of buttons, one for each star sign\n",
        "button_list = []\n",
        "for i in range(0,12):\n",
        "  button = ipywidgets.widgets.Button(description=image_name[i]['name'])\n",
        "  button.on_click(on_button_clicked)\n",
        "  button_list.append(button)    \n",
        "  # arrange the sign images and buttons into two rows\n",
        "grid = widgets.Grid(1, 6, header_row=True, header_column=True) \n",
        "newsize = (100, 100)\n",
        "for (row, col) in grid:\n",
        "  index = row*6+col\n",
        "  print(\"\\n\")\n",
        "  display(image_name[index]['image'].resize(newsize))\n",
        "  print(\"\\n\"+image_name[index]['date']+\"\\n\")\n",
        "  display(button_list[index])\n",
        "for (row, col) in grid:\n",
        "  index = row*6+col\n",
        "  print(\"\\n\")\n",
        "  display(image_name[index+6]['image'].resize(newsize))\n",
        "  print(\"\\n\"+image_name[index+6]['date']+\"\\n\")\n",
        "  display(button_list[index+6])\n",
        "\n",
        "# display output\n",
        "print('\\nSelect your Star Sign by clicking the button\\n')\n",
        "display(output)"
      ],
      "execution_count": null,
      "outputs": []
    }
  ]
}